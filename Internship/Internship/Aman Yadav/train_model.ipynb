{
 "cells": [
  {
   "cell_type": "code",
   "execution_count": 2,
   "metadata": {},
   "outputs": [],
   "source": [
    "from keras.datasets import mnist\n",
    "from Autoencoder_model import VAE\n",
    "\n",
    "def load_mnist():\n",
    "    (x_train, y_train), (x_test, y_test) = mnist.load_data()\n",
    "\n",
    "    x_train = x_train.astype(\"float32\") / 255\n",
    "    x_train = x_train.reshape(x_train.shape + (1,))\n",
    "    \n",
    "    x_test = x_test.astype(\"float32\") / 255\n",
    "    x_test = x_test.reshape(x_test.shape + (1,))\n",
    "\n",
    "    return x_train, y_train, x_test, y_test\n",
    "\n",
    "\n",
    "def train(x_train, learning_rate, batch_size, epochs,input_shape):\n",
    "    autoencoder = VAE(\n",
    "        input_shape=input_shape,\n",
    "        conv_filters=(32, 64, 64, 64),\n",
    "        conv_kernels=(3, 3, 3, 3),\n",
    "        conv_strides=(1, 2, 2, 1),\n",
    "        latent_space_dim=2\n",
    "    )\n",
    "    autoencoder.summary()\n",
    "    autoencoder.compile(learning_rate)\n",
    "    autoencoder.train(x_train, batch_size, epochs)\n",
    "    return autoencoder\n",
    "\n",
    "\n",
    "\n",
    "# LEARNING_RATE = 0.0005\n",
    "# BATCH_SIZE = 32\n",
    "# EPOCHS = 10\n",
    "# if __name__ == \"__main__\":\n",
    "#     x_train, _, _, _ = load_mnist()\n",
    "#     autoencoder = train(x_train[:1000], LEARNING_RATE, BATCH_SIZE, EPOCHS, x_train.shape[1:])\n",
    "    \n",
    "#     filename = 'mnist_model.sav'\n",
    "#     pickle.dump(autoencoder, open(filename, 'wb'))"
   ]
  },
  {
   "cell_type": "code",
   "execution_count": null,
   "metadata": {},
   "outputs": [],
   "source": []
  }
 ],
 "metadata": {
  "kernelspec": {
   "display_name": "Python 3",
   "language": "python",
   "name": "python3"
  },
  "language_info": {
   "codemirror_mode": {
    "name": "ipython",
    "version": 3
   },
   "file_extension": ".py",
   "mimetype": "text/x-python",
   "name": "python",
   "nbconvert_exporter": "python",
   "pygments_lexer": "ipython3",
   "version": "3.7.4"
  }
 },
 "nbformat": 4,
 "nbformat_minor": 2
}
