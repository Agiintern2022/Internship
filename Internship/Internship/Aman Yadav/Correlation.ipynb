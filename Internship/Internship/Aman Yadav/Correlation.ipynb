{
 "cells": [
  {
   "cell_type": "markdown",
   "metadata": {},
   "source": [
    "# Data Loading and Preprocessing"
   ]
  },
  {
   "cell_type": "code",
   "execution_count": 2,
   "metadata": {},
   "outputs": [],
   "source": [
    "# Importing Important Modules\n",
    "import os\n",
    "from skimage.io import imread,imshow\n",
    "import cv2\n",
    "import numpy as np\n",
    "import scipy\n",
    "import matplotlib.pyplot as plt\n",
    "from tqdm import tqdm\n",
    "import pandas as pd"
   ]
  },
  {
   "cell_type": "code",
   "execution_count": 7,
   "metadata": {},
   "outputs": [],
   "source": [
    "def load_data(path):\n",
    "    filenames=os.listdir(path)\n",
    "\n",
    "    data = []\n",
    "    for f_name in filenames:\n",
    "        data.append(path+'/'+f_name)\n",
    "\n",
    "    # storing images in list from path\n",
    "    image_dataset = []\n",
    "    for img in data:\n",
    "        a = imread(img)\n",
    "        image_dataset.append(a)\n",
    "\n",
    "    #Taking images which have same sizes\n",
    "    image_dataset = image_dataset[121:]\n",
    "    \n",
    "    return image_dataset\n",
    "\n",
    "\n",
    "#Printing Sample Images\n",
    "def visulizeDataImages(image_dataset):\n",
    "    fig = plt.figure(figsize=(15, 3))\n",
    "    for i in range(10):\n",
    "        ax = fig.add_subplot(1, 10, i + 1)\n",
    "        ax.axis(\"off\")\n",
    "        ax.imshow(image_dataset[i],cmap=\"hot\");\n",
    "        \n",
    "\n",
    "## Calling Function\n",
    "\n",
    "# path = r\"C:\\Users\\amany\\Downloads\\archive\\Training\\glioma\"\n",
    "# image_dataset = load_data(path)\n",
    "# visulizeDataImages(image_dataset)"
   ]
  },
  {
   "cell_type": "markdown",
   "metadata": {},
   "source": [
    "# Find and Visualize Correlation ::"
   ]
  },
  {
   "cell_type": "code",
   "execution_count": 5,
   "metadata": {},
   "outputs": [],
   "source": [
    "def visulaizeDataCorr(image_dataset):\n",
    "    corr_method1 = {}\n",
    "    for i in range(0,10):\n",
    "\n",
    "        x = image_dataset[i]\n",
    "        flat_image1 = [num for sublist in x for num in sublist]\n",
    "        new1 = pd.DataFrame(flat_image1)\n",
    "\n",
    "        for j in range(0,10):\n",
    "            y = image_dataset[j]\n",
    "\n",
    "            flat_image2 = [num for sublist in y for num in sublist]\n",
    "            new2 = pd.DataFrame(flat_image2)\n",
    "\n",
    "            corr = new1.corrwith(new2,axis=0)\n",
    "            corr = pd.DataFrame(corr)\n",
    "\n",
    "            try:\n",
    "                corr_method1[i].append(corr[0][0])\n",
    "            except:\n",
    "                corr_method1[i] = [corr[0][0]]\n",
    "\n",
    "            if corr[0][0]>0.8:\n",
    "                fig, (ax1,ax2) = plt.subplots(nrows=1, ncols=2, figsize=(25, 25))\n",
    "                plt.subplots_adjust(hspace=0.8)\n",
    "                ax1.imshow(image_dataset[i])\n",
    "                ax2.imshow(image_dataset[j])\n",
    "                ax1.set_title(\"Image - \"+str(i)+\", Corr : \"+str(corr[0][0]),fontsize=18)\n",
    "                ax2.set_title(\"Image - \"+str(j)+\", Corr :\"+str(corr[0][0]),fontsize=18)\n",
    "                #plt.savefig(str(i)+str(j)+\".png\")\n",
    "                plt.show()"
   ]
  },
  {
   "cell_type": "markdown",
   "metadata": {},
   "source": [
    "## Three Methods to get emergent image using correlation"
   ]
  },
  {
   "cell_type": "markdown",
   "metadata": {},
   "source": [
    "### 1 - DOT PRODUCT"
   ]
  },
  {
   "cell_type": "markdown",
   "metadata": {},
   "source": [
    "\n",
    "\n",
    "###### Newly generated image"
   ]
  },
  {
   "cell_type": "code",
   "execution_count": 3,
   "metadata": {},
   "outputs": [],
   "source": [
    "def emergentImageUsingDotProduct(image_dataset):\n",
    "    x1 = image_dataset[0]\n",
    "    x1 = cv2.resize(x1,(128,128))\n",
    "    for i in range(1,100):\n",
    "        y = image_dataset[i]\n",
    "        y = cv2.resize(y,(128,128))\n",
    "        x1 = np.dot(x1,y.T)\n",
    "    \n",
    "    return x1\n",
    "\n",
    "\n",
    "# Calling Function\n",
    "# emergentImageUsingDotProduct(image_dataset)"
   ]
  },
  {
   "cell_type": "markdown",
   "metadata": {},
   "source": [
    "### 2 - REMOVING HIGHLY CORRELATED FEATURE FROM INDIVIDUAL IMAGE"
   ]
  },
  {
   "cell_type": "code",
   "execution_count": 1,
   "metadata": {},
   "outputs": [],
   "source": [
    "def highlyCorrelatedFeature(image_dataset):\n",
    "    clean_dataset = []\n",
    "    for i in tqdm(range(100),desc=\"Droping highly correlated part \"):\n",
    "        data = image_dataset[i]\n",
    "        df = pd.DataFrame(data)\n",
    "\n",
    "        # Create correlation matrix\n",
    "        corr_matrix = df.corr().abs()\n",
    "\n",
    "        # Select upper triangle of correlation matrix\n",
    "        upper = corr_matrix.where(np.triu(np.ones(corr_matrix.shape), k=1).astype('bool'))\n",
    "\n",
    "        # Find features with correlation greater than 0.95\n",
    "        to_drop = [column for column in upper.columns if any(upper[column] > 0.95)]\n",
    "\n",
    "        # Drop features\n",
    "        df.drop(to_drop, axis=1, inplace=True)\n",
    "\n",
    "        img_array = np.array(df)\n",
    "\n",
    "        img = cv2.resize(img_array,(512,512))\n",
    "\n",
    "        clean_dataset.append(img)\n",
    "    return clean_dataset\n",
    "\n",
    "\n",
    "\n",
    "def emergentImageUsingHighCorr(clean_dataset):\n",
    "    x2 = clean_dataset[0]\n",
    "    x2 = cv2.resize(x2,(128,128))\n",
    "    for i in range(1,100):\n",
    "        y = clean_dataset[i]\n",
    "        y = cv2.resize(y,(128,128))\n",
    "        x2 = np.dot(x2,y.T)\n",
    "\n",
    "    print(x2.shape)\n",
    "    plt.imshow(x2);\n",
    "\n",
    "#Visualizing Highly correlated images\n",
    "def plotCorrImage(clean_dataset):\n",
    "    corr_method1 = {}\n",
    "    for i in range(0,10):\n",
    "\n",
    "        x = clean_dataset[i]\n",
    "        flat_image1 = [num for sublist in x for num in sublist]\n",
    "        new1 = pd.DataFrame(flat_image1)\n",
    "\n",
    "        for j in range(0,10):\n",
    "            y = clean_dataset[j]\n",
    "\n",
    "            flat_image2 = [num for sublist in y for num in sublist]\n",
    "            new2 = pd.DataFrame(flat_image2)\n",
    "\n",
    "            corr = new1.corrwith(new2,axis=0)\n",
    "            corr = pd.DataFrame(corr)\n",
    "\n",
    "            try:\n",
    "                corr_method1[i].append(corr[0][0])\n",
    "            except:\n",
    "                corr_method1[i] = [corr[0][0]]\n",
    "\n",
    "            if corr[0][0]>0.7:\n",
    "                fig, (ax1,ax2) = plt.subplots(nrows=1, ncols=2, figsize=(25, 25))\n",
    "                plt.subplots_adjust(hspace=0.8)\n",
    "                ax1.imshow(clean_dataset[i])\n",
    "                ax2.imshow(clean_dataset[j])\n",
    "                ax1.set_title(\"Image - \"+str(i)+\", Corr : \"+str(corr[0][0]),fontsize=18)\n",
    "                ax2.set_title(\"Image - \"+str(j)+\", Corr :\"+str(corr[0][0]),fontsize=18)\n",
    "                plt.savefig(str(i)+str(j)+\".png\")\n",
    "                plt.show()\n",
    "\n",
    "#Calling Functions\n",
    "\n",
    "# clean_dataset = highlyCorrelatedFeature(image_dataset)\n",
    "# emergentImage(clean_dataset)\n",
    "# plotCorrImage(clean_dataset)"
   ]
  },
  {
   "cell_type": "markdown",
   "metadata": {},
   "source": [
    "### 3 - REMOVING ONLY HIGHLY CORRELATED FEATURE W.R. TO FIRST IMAGE"
   ]
  },
  {
   "cell_type": "code",
   "execution_count": 2,
   "metadata": {},
   "outputs": [],
   "source": [
    "def removeHighCorrelatedFeature(image_dataset):\n",
    "    corr_method3 = []\n",
    "    for i in tqdm(range(0,1),desc=\"Progress\"):\n",
    "\n",
    "        x = image_dataset[i]\n",
    "        flat_image1 = [num for sublist in x for num in sublist]\n",
    "        new1 = pd.DataFrame(flat_image1)\n",
    "\n",
    "        for j in range(0,100):\n",
    "            y = image_dataset[j]\n",
    "\n",
    "            flat_image2 = [num for sublist in y for num in sublist]\n",
    "            new2 = pd.DataFrame(flat_image2)\n",
    "\n",
    "            corr = new1.corrwith(new2,axis=0)\n",
    "            corr = pd.DataFrame(corr)\n",
    "\n",
    "            if corr[0][0]>0.8:\n",
    "                data = image_dataset[j]\n",
    "                df = pd.DataFrame(data)\n",
    "\n",
    "                # Create correlation matrix\n",
    "                corr_matrix = df.corr().abs()\n",
    "\n",
    "                # Select upper triangle of correlation matrix\n",
    "                upper = corr_matrix.where(np.triu(np.ones(corr_matrix.shape), k=1).astype('bool'))\n",
    "\n",
    "                # Find features with correlation greater than 0.95\n",
    "                to_drop = [column for column in upper.columns if any(upper[column] > 0.95)]\n",
    "\n",
    "                # Drop features \n",
    "                df.drop(to_drop, axis=1, inplace=True)\n",
    "\n",
    "                img_array = np.array(df)\n",
    "\n",
    "                img = cv2.resize(img_array,(512,512))\n",
    "\n",
    "                corr_method3.append(img)\n",
    "            else:\n",
    "                corr_method3.append(y)\n",
    "    corr_method3\n",
    "    \n",
    "def emergentImageUsingRemoveCorr(corr_method3):\n",
    "    x3 = corr_method3[0]\n",
    "    x3 = cv2.resize(x3,(128,128))\n",
    "    for i in range(1,100):\n",
    "        y = corr_method3[i]\n",
    "        y = cv2.resize(y,(128,128))\n",
    "        x3 = np.dot(x3,y.T)\n",
    "\n",
    "    print(x3.shape)\n",
    "    plt.imshow(x3);\n",
    "\n",
    "\n",
    "#Calling Function\n",
    "\n",
    "# clean_data = removeHighCorrelatedFeature(image_dataset)\n",
    "# emergentImageUsingRemoveCorr(clean_data)"
   ]
  },
  {
   "cell_type": "markdown",
   "metadata": {},
   "source": [
    "# COMPARING GENERATED IMAGES"
   ]
  },
  {
   "cell_type": "code",
   "execution_count": 4,
   "metadata": {},
   "outputs": [],
   "source": [
    "def compareImages(org_img,gen_img):\n",
    "    c=1\n",
    "    for i,j in zip(org_img,gen_img):\n",
    "        fig, (ax1,ax2) = plt.subplots(nrows=1, ncols=2, figsize=(25, 25))\n",
    "        plt.subplots_adjust(hspace=0.8)\n",
    "        ax1.imshow(i)\n",
    "        ax2.imshow(j)\n",
    "        ax1.set_title(\"GeneratedImage-\"+str(c),fontsize=18)\n",
    "        ax2.set_title(\"GeneratedDenoisedImage-\"+str(c),fontsize=18)\n",
    "        plt.savefig(\"generatedNoisyDenoisyImages_method_\"+str(c)+\".png\")\n",
    "        c+=1\n",
    "        plt.show()"
   ]
  },
  {
   "cell_type": "markdown",
   "metadata": {},
   "source": [
    "# Similarity between Generated Image"
   ]
  },
  {
   "cell_type": "markdown",
   "metadata": {},
   "source": [
    "### Noisy Generated Image"
   ]
  },
  {
   "cell_type": "code",
   "execution_count": 42,
   "metadata": {},
   "outputs": [
    {
     "data": {
      "image/png": "[encoded data removed]",
      "text/plain": [
       "<Figure size 432x288 with 1 Axes>"
      ]
     },
     "metadata": {
      "needs_background": "light"
     },
     "output_type": "display_data"
    },
    {
     "data": {
      "image/png": "[encoded data removed]",
      "text/plain": [
       "<Figure size 432x288 with 1 Axes>"
      ]
     },
     "metadata": {
      "needs_background": "light"
     },
     "output_type": "display_data"
    },
    {
     "data": {
      "image/png": "[encoded data removed]",
      "text/plain": [
       "<Figure size 432x288 with 1 Axes>"
      ]
     },
     "metadata": {
      "needs_background": "light"
     },
     "output_type": "display_data"
    }
   ],
   "source": [
    "from sklearn.metrics import mean_squared_error\n",
    "from math import sqrt\n",
    "\n",
    "c=1\n",
    "fig = plt.figure()\n",
    "imgs = ['GenImg-1','GenImg-2','GenImg-3']\n",
    "for i in [x1,x2,x3]:\n",
    "    sim_lst = []\n",
    "    for j in [x1,x2,x3]:\n",
    "        sim_lst.append(100-mean_squared_error(i,j))\n",
    "    plt.bar(imgs,sim_lst,color=['red', 'green', 'blue'])\n",
    "    plt.title(\"Similarity of GeneratedImage-\"+str(c))\n",
    "    plt.savefig(\"Similarity_generatedImage_\"+str(c)+\".png\")\n",
    "    c+=1\n",
    "    \n",
    "    plt.show();"
   ]
  },
  {
   "cell_type": "markdown",
   "metadata": {},
   "source": [
    "### Denoisy Generated Image"
   ]
  },
  {
   "cell_type": "code",
   "execution_count": 43,
   "metadata": {},
   "outputs": [
    {
     "data": {
      "image/png": "[encoded data removed]",
      "text/plain": [
       "<Figure size 432x288 with 1 Axes>"
      ]
     },
     "metadata": {
      "needs_background": "light"
     },
     "output_type": "display_data"
    },
    {
     "data": {
      "image/png": "[encoded data removed]",
      "text/plain": [
       "<Figure size 432x288 with 1 Axes>"
      ]
     },
     "metadata": {
      "needs_background": "light"
     },
     "output_type": "display_data"
    },
    {
     "data": {
      "image/png": "[encoded data removed]",
      "text/plain": [
       "<Figure size 432x288 with 1 Axes>"
      ]
     },
     "metadata": {
      "needs_background": "light"
     },
     "output_type": "display_data"
    }
   ],
   "source": [
    "from sklearn.metrics import mean_squared_error\n",
    "from math import sqrt\n",
    "\n",
    "c=1\n",
    "fig = plt.figure()\n",
    "imgs = ['IMG-1','IMG-2','IMG-3']\n",
    "for i in [new_img1,new_img2,new_img3]:\n",
    "    sim_lst_mse = []\n",
    "    for j in [new_img1,new_img2,new_img3]:\n",
    "        sim_lst_mse.append(100 - mean_squared_error(i,j))\n",
    "    plt.bar(imgs,sim_lst_mse,color=['red', 'green', 'blue'])\n",
    "    plt.title(\"Similarity of GeneratedImage-\"+str(c))\n",
    "    plt.savefig(\"Denoisy_Similarity_generatedImage_\"+str(c)+\".png\")\n",
    "    c+=1\n",
    "    plt.show();"
   ]
  }
 ],
 "metadata": {
  "kernelspec": {
   "display_name": "Python 3",
   "language": "python",
   "name": "python3"
  },
  "language_info": {
   "codemirror_mode": {
    "name": "ipython",
    "version": 3
   },
   "file_extension": ".py",
   "mimetype": "text/x-python",
   "name": "python",
   "nbconvert_exporter": "python",
   "pygments_lexer": "ipython3",
   "version": "3.7.4"
  }
 },
 "nbformat": 4,
 "nbformat_minor": 2
}
