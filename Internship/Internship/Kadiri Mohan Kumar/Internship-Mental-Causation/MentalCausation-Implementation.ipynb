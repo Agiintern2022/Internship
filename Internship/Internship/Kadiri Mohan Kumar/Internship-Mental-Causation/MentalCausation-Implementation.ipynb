{
  "nbformat": 4,
  "nbformat_minor": 0,
  "metadata": {
    "colab": {
      "name": "MentalCausation.ipynb",
      "provenance": [],
      "collapsed_sections": [],
      "authorship_tag": "ABX9TyOpXndEeQcDGnaZlSqsXrUj",
      "include_colab_link": true
    },
    "kernelspec": {
      "name": "python3",
      "display_name": "Python 3"
    },
    "language_info": {
      "name": "python"
    }
  },
  "cells": [
    {
      "cell_type": "markdown",
      "metadata": {
        "id": "view-in-github",
        "colab_type": "text"
      },
      "source": [
        "<a href=\"https://colab.research.google.com/github/1722101709/Internship/blob/Mental-Causation/MentalCausation.ipynb\" target=\"_parent\"><img src=\"https://colab.research.google.com/assets/colab-badge.svg\" alt=\"Open In Colab\"/></a>"
      ]
    },
    {
      "cell_type": "markdown",
      "source": [
        "## ***unzipping the image dataset***"
      ],
      "metadata": {
        "id": "6a_JrV54ATvt"
      }
    },
    {
      "cell_type": "code",
      "metadata": {
        "id": "6DDRFGnb_YdD"
      },
      "source": [
        "!unzip '/content/glioma.zip'"
      ],
      "execution_count": null,
      "outputs": []
    },
    {
      "cell_type": "markdown",
      "source": [
        "# ***Importing Modules***"
      ],
      "metadata": {
        "id": "0Z9tRKtiIkuc"
      }
    },
    {
      "cell_type": "code",
      "source": [
        "import numpy as np\n",
        "import gym\n",
        "from collections import deque\n",
        "import random"
      ],
      "metadata": {
        "id": "U9YdwyVGIl3d"
      },
      "execution_count": null,
      "outputs": []
    },
    {
      "cell_type": "markdown",
      "source": [
        "## ***1.Adding Noise to the input to improve effeciency***\n",
        "## ***2.Memory***"
      ],
      "metadata": {
        "id": "SiCXPwA5IM9f"
      }
    },
    {
      "cell_type": "code",
      "source": [
        "class OUNoise(object): # noise class\n",
        "    def __init__(self, action_space, mu=0.0, theta=0.15, max_sigma=0.3, min_sigma=0.3, decay_period=100000):\n",
        "        self.mu           = mu\n",
        "        self.theta        = theta\n",
        "        self.sigma        = max_sigma\n",
        "        self.max_sigma    = max_sigma\n",
        "        self.min_sigma    = min_sigma\n",
        "        self.decay_period = decay_period\n",
        "        self.action_dim   = action_space.shape[0]\n",
        "        self.low          = action_space.low\n",
        "        self.high         = action_space.high\n",
        "        self.reset()\n",
        "        \n",
        "    def reset(self): # resetting the state\n",
        "        self.state = np.ones(self.action_dim) * self.mu\n",
        "        \n",
        "    def evolve_state(self): # exploring the next state\n",
        "        x  = self.state\n",
        "        dx = self.theta * (self.mu - x) + self.sigma * np.random.randn(self.action_dim)\n",
        "        self.state = x + dx\n",
        "        return self.state\n",
        "    \n",
        "    def get_action(self, action, t=0): # get action for the current state\n",
        "        ou_state = self.evolve_state()\n",
        "        self.sigma = self.max_sigma - (self.max_sigma - self.min_sigma) * min(1.0, t / self.decay_period)\n",
        "        return np.clip(action + ou_state, self.low, self.high)\n",
        "\n",
        "\n",
        "        \n",
        "# memory class to store the experiences\n",
        "class Memory:\n",
        "    def __init__(self, max_size): # initializing memory with max_size\n",
        "        self.max_size = max_size\n",
        "        self.buffer = deque(maxlen=max_size)\n",
        "    \n",
        "    def push(self, state, action, reward, next_state, done): # push method to add experience into the memory\n",
        "        experience = (state, action, np.array([reward]), next_state, done)\n",
        "        self.buffer.append(experience)\n",
        "\n",
        "    def sample(self, batch_size): # seperating the elements in the experience into  seperate lists\n",
        "        state_batch = [] # states\n",
        "        action_batch = [] # actions\n",
        "        reward_batch = [] # rewards\n",
        "        next_state_batch = [] # next state\n",
        "        done_batch = [] # is_done\n",
        "\n",
        "        batch = random.sample(self.buffer, batch_size)\n",
        "\n",
        "        for experience in batch:\n",
        "            state, action, reward, next_state, done = experience\n",
        "            state_batch.append(state)\n",
        "            action_batch.append(action)\n",
        "            reward_batch.append(reward)\n",
        "            next_state_batch.append(next_state)\n",
        "            done_batch.append(done)\n",
        "        \n",
        "        return state_batch, action_batch, reward_batch, next_state_batch, done_batch\n",
        "\n",
        "    def __len__(self): # to get the size of the memory filled with experiences\n",
        "        return len(self.buffer)"
      ],
      "metadata": {
        "id": "-_PEj_csiHrS"
      },
      "execution_count": null,
      "outputs": []
    },
    {
      "cell_type": "markdown",
      "source": [
        "## ***Actor Critic Network***"
      ],
      "metadata": {
        "id": "0r6ZLFibLNB-"
      }
    },
    {
      "cell_type": "code",
      "source": [
        "# importing necessary modules\n",
        "import torch\n",
        "import torch.nn as nn\n",
        "import torch.nn.functional as F \n",
        "import torch.autograd\n",
        "from torch.autograd import Variable\n",
        "\n",
        "class Critic(nn.Module): # critic class to implement the critic network \n",
        "    \n",
        "    def __init__(self, input_size, hidden_size, output_size): # initializing the critic network\n",
        "        super(Critic, self).__init__()\n",
        "        self.linear1 = nn.Linear(input_size, hidden_size)\n",
        "        self.linear2 = nn.Linear(hidden_size, hidden_size)\n",
        "        self.linear3 = nn.Linear(hidden_size, output_size)\n",
        "\n",
        "    def forward(self, state, action): # forward propogation i.e., input to the input layer => output from the output layer\n",
        "\n",
        "        x = torch.cat([state, action], 1)\n",
        "        x = F.relu(self.linear1(x))\n",
        "        x = F.relu(self.linear2(x))\n",
        "        x = self.linear3(x)\n",
        "\n",
        "        return x\n",
        "\n",
        "class Actor(nn.Module): # Actor class to implement the Actor Network\n",
        "\n",
        "    def __init__(self, input_size, hidden_size, output_size, learning_rate = 3e-4): # initializing the Actor network\n",
        "        super(Actor, self).__init__()\n",
        "        self.linear1 = nn.Linear(input_size, hidden_size)\n",
        "        self.linear2 = nn.Linear(hidden_size, hidden_size)\n",
        "        self.linear3 = nn.Linear(hidden_size, output_size)\n",
        "        \n",
        "    def forward(self, state): # forward propogation in Actor network with input\n",
        "\n",
        "        x = F.relu(self.linear1(state))\n",
        "        x = F.relu(self.linear2(x))\n",
        "        x = torch.tanh(self.linear3(x))\n",
        "\n",
        "        return x"
      ],
      "metadata": {
        "id": "GkEuEhZ0iM7m"
      },
      "execution_count": null,
      "outputs": []
    },
    {
      "cell_type": "markdown",
      "source": [
        "# ***Agent***"
      ],
      "metadata": {
        "id": "wzQV_HwNMK6l"
      }
    },
    {
      "cell_type": "code",
      "source": [
        "# importing necessary modules \n",
        "import torch\n",
        "import torch.autograd\n",
        "import torch.optim as optim\n",
        "import torch.nn as nn\n",
        "\n",
        "\n",
        "class DDPGagent: # agent class(Deep Deterministic Policy Gradient)\n",
        "\n",
        "    # initilaizations\n",
        "    def __init__(self, env, hidden_size=256, actor_learning_rate=1e-4, critic_learning_rate=1e-3, gamma=0.99, tau=1e-2, max_memory_size=50000):\n",
        "        # Parameters\n",
        "        self.num_states = env.observation_space.shape[0] # number of states\n",
        "        self.num_actions = env.action_space.shape[0] # no of actions\n",
        "        self.gamma = gamma\n",
        "        self.tau = tau\n",
        "\n",
        "        # Networks\n",
        "        self.actor = Actor(self.num_states, hidden_size, self.num_actions) # actor network\n",
        "        self.actor_target = Actor(self.num_states, hidden_size, self.num_actions) # actor target network\n",
        "        self.critic = Critic(self.num_states + self.num_actions, hidden_size, self.num_actions) # critic network\n",
        "        self.critic_target = Critic(self.num_states + self.num_actions, hidden_size, self.num_actions) # critic target network\n",
        "\n",
        "        for target_param, param in zip(self.actor_target.parameters(), self.actor.parameters()):\n",
        "            target_param.data.copy_(param.data)\n",
        "\n",
        "        for target_param, param in zip(self.critic_target.parameters(), self.critic.parameters()):\n",
        "            target_param.data.copy_(param.data)\n",
        "        \n",
        "        # Training\n",
        "        self.memory = Memory(max_memory_size) # initialize the memory  \n",
        "        self.critic_criterion  = nn.MSELoss() # loss function\n",
        "        self.actor_optimizer  = optim.Adam(self.actor.parameters(), lr=actor_learning_rate) # optimizers for actor network\n",
        "        self.critic_optimizer = optim.Adam(self.critic.parameters(), lr=critic_learning_rate) # optimizers for critic network\n",
        "    \n",
        "    def get_action(self, state): # to get the action for the state by passing state as input to the actor network\n",
        "        state = Variable(torch.from_numpy(state).float().unsqueeze(0))\n",
        "        action = self.actor.forward(state)\n",
        "        action = action.detach().numpy()[0,0]\n",
        "        return action\n",
        "    \n",
        "    def update(self, batch_size): # updating the sampling after batch_size iterations\n",
        "        states, actions, rewards, next_states, _ = self.memory.sample(batch_size)\n",
        "        states = torch.FloatTensor(states)\n",
        "        actions = torch.FloatTensor(actions)\n",
        "        rewards = torch.FloatTensor(rewards)\n",
        "        next_states = torch.FloatTensor(next_states)\n",
        "    \n",
        "        # Critic loss        \n",
        "        Qvals = self.critic.forward(states, actions)\n",
        "        next_actions = self.actor_target.forward(next_states)\n",
        "        next_Q = self.critic_target.forward(next_states, next_actions.detach())\n",
        "        Qprime = rewards + self.gamma * next_Q\n",
        "        critic_loss = self.critic_criterion(Qvals, Qprime)\n",
        "\n",
        "        # Actor loss\n",
        "        policy_loss = -self.critic.forward(states, self.actor.forward(states)).mean()\n",
        "        \n",
        "        # update networks\n",
        "        self.actor_optimizer.zero_grad() # actor network\n",
        "        policy_loss.backward()\n",
        "        self.actor_optimizer.step()\n",
        "\n",
        "        self.critic_optimizer.zero_grad() # critic network\n",
        "        critic_loss.backward() \n",
        "        self.critic_optimizer.step()\n",
        "\n",
        "        # update target networks \n",
        "        for target_param, param in zip(self.actor_target.parameters(), self.actor.parameters()):\n",
        "            target_param.data.copy_(param.data * self.tau + target_param.data * (1.0 - self.tau))\n",
        "       \n",
        "        for target_param, param in zip(self.critic_target.parameters(), self.critic.parameters()):\n",
        "            target_param.data.copy_(param.data * self.tau + target_param.data * (1.0 - self.tau))"
      ],
      "metadata": {
        "id": "-gwvRI8PiTI9"
      },
      "execution_count": null,
      "outputs": []
    },
    {
      "cell_type": "markdown",
      "source": [
        "## **KMeans**"
      ],
      "metadata": {
        "id": "8SpVu8R1OTwc"
      }
    },
    {
      "cell_type": "code",
      "source": [
        "# importing necessary modules\n",
        "\n",
        "import numpy as np\n",
        "import pandas as pd\n",
        "import random\n",
        "from PIL import Image\n",
        "import os\n",
        "from matplotlib import pyplot as plt\n",
        "from sklearn.cluster import KMeans\n",
        "from sklearn.preprocessing import StandardScaler, normalize\n",
        "from sklearn.decomposition import PCA\n",
        "from sklearn.metrics import silhouette_score\n",
        "import warnings\n",
        "warnings.filterwarnings('ignore')\n",
        "\n",
        "# kmeans class \n",
        "class k_means():\n",
        "\n",
        "    # forming initial clusters with the training data\n",
        "    def __init__(self):\n",
        "        self.x = self.get_data() # to get the training data\n",
        "        self.count = 4\n",
        "        self.data = self.preprocessing(self.x) # preprocessing the data\n",
        "        self.x_principled = self.data[:][:self.count]\n",
        "        self.no_of_clusters = self.silhouette(self.x_principled) # to get the optimised k value\n",
        "        self.learning = [self.no_of_clusters] # to store clusters count\n",
        "        self.kmeans = KMeans(n_clusters=self.no_of_clusters, init='k-means++', max_iter=300, n_init=10, random_state=0 ) # kmeans object\n",
        "        self.predicted = self.kmeans.fit_predict(self.x_principled) # applying kmeans on training data\n",
        "\n",
        "\n",
        "    \"\"\"# ***plotting scatter plot of clusters***\"\"\"\n",
        "\n",
        "    def plot(self):\n",
        "\n",
        "        plt.scatter(self.x_principled['F1'], np.ones(self.x_principled.shape[0]))\n",
        "        plt.scatter(self.kmeans.cluster_centers_[:], np.ones(self.kmeans.cluster_centers_.shape[0]),s=100, c='orange')\n",
        "        plt.title('Graph with clusters of action')\n",
        "        plt.legend(['cluster points','cluster centers'], loc = \"lower right\" )\n",
        "        plt.xlabel('Actions')\n",
        "        plt.show()\n",
        "\n",
        "\n",
        "    \"\"\"# ***Plotting Learning***\"\"\"\n",
        "    def plot_learning(self):\n",
        "\n",
        "        plt.plot(self.learning) # plot the change in clusters count\n",
        "\n",
        "    \n",
        "    \"\"\"# ***preprocessing***\"\"\"\n",
        "\n",
        "    def preprocessing(self,x):\n",
        "\n",
        "        x_scaler = StandardScaler().fit_transform(x) # Scaling\n",
        "\n",
        "        x_normalize = pd.DataFrame(normalize(x_scaler)) # normalizing\n",
        "\n",
        "        x_pca = pd.DataFrame(PCA(n_components=1).fit_transform(x_normalize)) # applying PCA and storing the result in dataframe\n",
        "\n",
        "\n",
        "        x_pca.columns = ['F1'] # adjusting the column names\n",
        "\n",
        "        return x_pca\n",
        "    \n",
        "\n",
        "    \"\"\"# ***to find the optimal no of clusters for the given data***\"\"\"\n",
        "\n",
        "    def silhouette(self,x):\n",
        "        \n",
        "        self.sil = [] # to store silhouette scores for different k values\n",
        "        kmax = len(x)\n",
        "\n",
        "        for k in range(2, kmax): # forming clusters with k = 2 to maximum no of data points\n",
        "            kmeans = KMeans(n_clusters = k).fit(x)\n",
        "            labels = kmeans.labels_\n",
        "            self.sil.append(silhouette_score(x, labels, metric = 'euclidean')) # finding the silhouette score for clusters_count = k\n",
        "\n",
        "        k = self.sil.index(max(self.sil))+2 # optimised k value\n",
        "\n",
        "        self.kmeans = KMeans(n_clusters=k, init='k-means++', max_iter=300, n_init=10, random_state=0 )\n",
        "        self.predicted = self.kmeans.fit_predict(self.x_principled) # forming clusters with optimized clusters\n",
        "\n",
        "        return k\n",
        "\n",
        "\n",
        "    \"\"\"# *** to visualize the silhouette_scores of the data for different cluster counts***\"\"\"\n",
        "\n",
        "    def silhouette_score(self):\n",
        "        plt.plot(range(2,len(self.sil)+2), self.sil)\n",
        "        plt.show()\n",
        "\n",
        "\n",
        "    \"\"\"# ***Prediction of new data point***\"\"\"\n",
        "\n",
        "    def predict(self,input):\n",
        "\n",
        "        # to find the cluster of new data point to go into\n",
        "        self.x_principled.loc[len(self.x_principled.index)]  = input\n",
        "        optimized_k = self.silhouette(self.x_principled)\n",
        "        n_clusters = self.no_of_clusters\n",
        "        self.no_of_clusters = optimized_k\n",
        "        self.learning.append(self.no_of_clusters)\n",
        "\n",
        "        b = self.x_principled['F1']\n",
        "        c = self.kmeans.cluster_centers_\n",
        "        x = b[len(b)-1]\n",
        "        dif = 6\n",
        "        cluster = 0\n",
        "        for i in range(len(c)):\n",
        "            t = abs(c[i]-x)\n",
        "            if t<dif:\n",
        "                dif = t\n",
        "                cluster = i\n",
        "\n",
        "        labels = self.kmeans.labels_\n",
        "\n",
        "        # to find the data points that are in the same cluster as new data point\n",
        "        sim_points_num = ['Action_'+str(i+1) for i in range(len(b)-1) if labels[i] == cluster]\n",
        "        sim_points = [b[i] for i in range(len(b)-1) if labels[i] == cluster]\n",
        "        # print('Do new or modified or improvised action of following actions:-', '-'*30, *sim_points_num, '-'*30, sep='\\n',end='\\n\\n')\n",
        "\n",
        "        # finding the reward based on the similarity\n",
        "        no_of_sim_actions = len(sim_points)\n",
        "        if  no_of_sim_actions == 0:\n",
        "            return 0\n",
        "        sim_per = self.sim(sim_points)\n",
        "        if  -0.005<=sim_per <= 0.005 :\n",
        "            return 1\n",
        "        elif 0.005<sim_per<=0.05 or -0.05<sim_per<-0.005:\n",
        "            return abs(sim_per)*5\n",
        "        else:\n",
        "            return 0\n",
        "\n",
        "    \"\"\"# *** reading training data ***\"\"\"\n",
        "\n",
        "    def get_data(self): # converting the image dataset to vector form\n",
        "        \n",
        "        img = Image.open('/content/glioma/Te-gl__0001.jpg').convert('RGBA')\n",
        "        arr = np.array(img)\n",
        "        flat_arr = arr.ravel()\n",
        "        columns = flat_arr.shape[0]\n",
        "        vector = np.matrix(flat_arr)\n",
        "\n",
        "        df = pd.DataFrame(vector)\n",
        "\n",
        "        for i in range(2,300):\n",
        "            path = '/content/glioma/Te-gl__'+'{0:04d}'.format(i)+'.jpg'\n",
        "            if os.path.exists(path):\n",
        "                img = Image.open(path).convert('RGBA')\n",
        "                arr = np.array(img)\n",
        "                flat_arr = arr.ravel()\n",
        "                size = flat_arr.shape[0]\n",
        "                if size >= columns:\n",
        "                    df.loc[len(df)] = flat_arr[:columns]\n",
        "                else:\n",
        "                    for i in range(columns-size):\n",
        "                        flat_arr.append(0)\n",
        "                    df.loc[len(df)] = flat_arr\n",
        "        return df\n",
        "\n",
        "    # similarity between points\n",
        "\n",
        "    def sim(self, l):\n",
        "        s = 0\n",
        "        l.sort()\n",
        "        for i in range(1,len(l)):\n",
        "            s += abs(l[i]-l[i-1])\n",
        "        return round(s/len(l),7)\n",
        "    \n",
        "    # next input signal\n",
        "\n",
        "    def get_next_signal(self):\n",
        "        self.count += 1\n",
        "        if self.count == len(self.data):\n",
        "            return True, np.array(self.data.iloc[self.count-1])\n",
        "        return False, np.array(self.data.iloc[self.count-1])\n"
      ],
      "metadata": {
        "id": "eF0vzt6KiVbN"
      },
      "execution_count": null,
      "outputs": []
    },
    {
      "cell_type": "markdown",
      "source": [
        "## ***Environment***"
      ],
      "metadata": {
        "id": "N1Djew-x08bU"
      }
    },
    {
      "cell_type": "code",
      "source": [
        "# importing modules\n",
        "from gym import Env\n",
        "from gym.spaces import Discrete, Box\n",
        "import numpy as np\n",
        "import random\n",
        "\n",
        "# Environment\n",
        "class Environment(Env):\n",
        "\n",
        "    def __init__(self): # initializing environment\n",
        "\n",
        "        self.ai = k_means()\n",
        "        self.action_space = Box(low = np.array([-1]), high = np.array([1]), dtype=float)\n",
        "        self.observation_space = Box(low = np.array([-1]), high = np.array([1]), dtype=float)\n",
        "        self.state = np.random.random(1)\n",
        "\n",
        "    def step(self, action): # taking actions on environment\n",
        "\n",
        "        reward = self.ai.predict(action)\n",
        "        done, next_state = self.ai.get_next_signal()\n",
        "        self.state = next_state\n",
        "        return self.state,reward,done,{}\n",
        "\n",
        "    def reset(self): # reset the environment\n",
        "        self.__init__()\n",
        "        return self.state\n"
      ],
      "metadata": {
        "id": "_pQ9oicniX-d"
      },
      "execution_count": null,
      "outputs": []
    },
    {
      "cell_type": "markdown",
      "source": [
        "## ***Without Feedback Protocol***"
      ],
      "metadata": {
        "id": "T0sdZMuT4sEP"
      }
    },
    {
      "cell_type": "code",
      "source": [
        "# importing modules\n",
        "import sys\n",
        "import gym\n",
        "import numpy as np\n",
        "import pandas as pd\n",
        "import random\n",
        "rewards = [] # to store rewards of episode\n",
        "avg_rewards = [] # to store average rewards of each episode\n",
        "episodes = 10 # episodes\n",
        "steps = 50 # no of steps in an episode\n",
        "for episode in range(episodes):\n",
        "    episode_reward = 0\n",
        "    env = Environment()\n",
        "    for step in range(steps):\n",
        "        action = random.uniform(-1,1) # randomly taking actions as there is no feedback\n",
        "        new_state, reward, done, _ = env.step(action) # applying action on the environment\n",
        "        episode_reward += reward\n",
        "    \n",
        "    rewards.append(episode_reward)\n",
        "    avg_rewards.append(np.mean(rewards[-10:]))\n",
        "    # print total reward for the episode and average_reward per episode\n",
        "    print(\"episode: {}, reward: {}, average _reward: {} \\n\".format(episode+1, np.round(episode_reward, decimals=2), np.mean(rewards[-10:])))\n",
        "without_feedback_rewards = rewards\n",
        "without_feedback_avg_rewards = avg_rewards\n",
        "\n",
        "# plotting rewards, average_rewards vs episode graph\n",
        "from matplotlib import pyplot as plt\n",
        "plt.plot(rewards)\n",
        "plt.plot(avg_rewards)\n",
        "plt.plot()\n",
        "plt.xlabel('Episode')\n",
        "plt.ylabel('Reward')\n",
        "plt.show()"
      ],
      "metadata": {
        "colab": {
          "base_uri": "https://localhost:8080/",
          "height": 626
        },
        "id": "d-hK-nEDifLm",
        "outputId": "a78ed110-df42-4547-8d46-8829417a56d1"
      },
      "execution_count": null,
      "outputs": [
        {
          "output_type": "stream",
          "name": "stdout",
          "text": [
            "episode: 1, reward: 7.37, average _reward: 7.371693000000001 \n",
            "\n",
            "episode: 2, reward: 12.8, average _reward: 10.083464 \n",
            "\n",
            "episode: 3, reward: 6.3, average _reward: 8.823254999999998 \n",
            "\n",
            "episode: 4, reward: 6.24, average _reward: 8.178595374999999 \n",
            "\n",
            "episode: 5, reward: 9.41, average _reward: 8.425670799999999 \n",
            "\n",
            "episode: 6, reward: 11.32, average _reward: 8.908605249999999 \n",
            "\n",
            "episode: 7, reward: 9.81, average _reward: 9.037944714285715 \n",
            "\n",
            "episode: 8, reward: 8.02, average _reward: 8.9102580625 \n",
            "\n",
            "episode: 9, reward: 7.37, average _reward: 8.738722555555556 \n",
            "\n",
            "episode: 10, reward: 5.37, average _reward: 8.402293700000001 \n",
            "\n"
          ]
        },
        {
          "output_type": "display_data",
          "data": {
            "text/plain": [
              "<Figure size 432x288 with 1 Axes>"
            ],
            "image/png": "[encoded data removed]"
          },
          "metadata": {}
        }
      ]
    },
    {
      "cell_type": "markdown",
      "source": [
        "# ***With Feedback Protocol***"
      ],
      "metadata": {
        "id": "6y7UNP5Y6Oor"
      }
    },
    {
      "cell_type": "code",
      "source": [
        "#importing modules\n",
        "import sys\n",
        "import gym\n",
        "import numpy as np\n",
        "import pandas as pd\n",
        "import warnings\n",
        "warnings.filterwarnings('ignore')\n",
        "\n",
        "env = Environment() # creating environment\n",
        "\n",
        "agent = DDPGagent(env) # agent\n",
        "noise = OUNoise(env.action_space) # noise class object\n",
        "batch_size = 2 \n",
        "rewards = []\n",
        "avg_rewards = []\n",
        "episodes = 10 # no of episodes\n",
        "steps = 50 # no of steps in an episode\n",
        "for episode in range(episodes):\n",
        "    state = env.reset()\n",
        "    noise.reset()\n",
        "    episode_reward = 0\n",
        "    for step in range(steps):\n",
        "        action = agent.get_action(state) # get action from Agent\n",
        "        action = noise.get_action(action, step) # add noise to the action\n",
        "        new_state, reward, done, _ = env.step(action) # apply action on the environment\n",
        "        agent.memory.push(state, action, reward, new_state, done) # store the experience in the memory\n",
        "        \n",
        "        if len(agent.memory) > batch_size: # update the sampling after batch_size iterations\n",
        "            agent.update(batch_size)\n",
        "        \n",
        "        state = new_state\n",
        "        episode_reward += reward\n",
        "        if done: # if environment was explored fully then, stop\n",
        "            break\n",
        " \n",
        "    rewards.append(episode_reward)\n",
        "    avg_rewards.append(np.mean(rewards[-10:]))\n",
        "    # print total reward for the episode and average_reward per episode\n",
        "    print(\"episode: {}, reward: {}, average _reward: {} \\n\".format(episode+1, np.round(episode_reward, decimals=2), np.mean(rewards[-10:])))\n",
        "with_feedback_rewards = rewards\n",
        "with_feedback_avg_rewards = avg_rewards\n"
      ],
      "metadata": {
        "colab": {
          "base_uri": "https://localhost:8080/"
        },
        "id": "5ao8WUaUrhre",
        "outputId": "730c328c-8b08-4b39-89d6-874f4666cf1d"
      },
      "execution_count": null,
      "outputs": [
        {
          "output_type": "stream",
          "name": "stdout",
          "text": [
            "episode: 1, reward: 17.37, average _reward: 17.3671025 \n",
            "\n",
            "episode: 2, reward: 8.74, average _reward: 13.053532500000003 \n",
            "\n",
            "episode: 3, reward: 15.39, average _reward: 13.831160833333335 \n",
            "\n",
            "episode: 4, reward: 4.83, average _reward: 11.579700125 \n",
            "\n",
            "episode: 5, reward: 17.61, average _reward: 12.784870100000001 \n",
            "\n",
            "episode: 6, reward: 5.42, average _reward: 11.557575083333333 \n",
            "\n",
            "episode: 7, reward: 6.6, average _reward: 10.848970928571429 \n",
            "\n",
            "episode: 8, reward: 22.85, average _reward: 12.34899775 \n",
            "\n",
            "episode: 9, reward: 10.98, average _reward: 12.196926277777779 \n",
            "\n",
            "episode: 10, reward: 27.14, average _reward: 13.6907618 \n",
            "\n"
          ]
        }
      ]
    },
    {
      "cell_type": "markdown",
      "source": [
        "## ***Plotting average_rewards_per_episode vs episodes without feedback vs with feedback protocol***"
      ],
      "metadata": {
        "id": "_KYhoi3T7br3"
      }
    },
    {
      "cell_type": "code",
      "source": [
        "from matplotlib import pyplot as plt\n",
        "import matplotlib as mpl\n",
        "plt.plot(without_feedback_avg_rewards,'r',linewidth=1.5)\n",
        "plt.plot(with_feedback_avg_rewards,'g',linewidth=3)\n",
        "plt.plot()\n",
        "plt.legend([\"without feedback\", \"with feedback\"], loc =\"upper left\")\n",
        "plt.xlabel('Episodes')\n",
        "plt.ylabel('Average Reward')\n",
        "plt.title('average rewards w.r.t episodes')\n",
        "plt.style.use('dark_background')\n",
        "plt.show()"
      ],
      "metadata": {
        "colab": {
          "base_uri": "https://localhost:8080/",
          "height": 295
        },
        "id": "3p6a6I3kuBnP",
        "outputId": "0120e93b-0781-4a73-850c-3b3f34eefe78"
      },
      "execution_count": null,
      "outputs": [
        {
          "output_type": "display_data",
          "data": {
            "text/plain": [
              "<Figure size 432x288 with 1 Axes>"
            ],
            "image/png": "[encoded data removed]"
          },
          "metadata": {}
        }
      ]
    },
    {
      "cell_type": "markdown",
      "source": [
        "\n",
        "\n",
        "---\n",
        "\n",
        "\n",
        "## ***=====> Using normalized feedback protocol <=====***\n",
        "\n",
        "---\n",
        "\n"
      ],
      "metadata": {
        "id": "z2828m1-8T9x"
      }
    },
    {
      "cell_type": "code",
      "source": [
        "# importing modules\n",
        "import numpy as np\n",
        "import gym\n",
        "from collections import deque\n",
        "import random\n",
        "\n",
        "# memory class to store the non-duplicates to achieve normalized feedback\n",
        "class Memory_Normalized:\n",
        "    def __init__(self, max_size): # initialization\n",
        "        self.max_size = max_size\n",
        "        self.buffer = deque(maxlen=max_size)\n",
        "    \n",
        "    def push(self, state, action, reward, next_state, done): # pushing experience of each step into the memory\n",
        "        experience = (state, action, np.array([reward]), next_state, done)\n",
        "        if experience not in self.buffer:\n",
        "            self.buffer.append(experience)\n",
        "\n",
        "    def sample(self, batch_size): # sampling the experience\n",
        "        state_batch = []\n",
        "        action_batch = []\n",
        "        reward_batch = []\n",
        "        next_state_batch = []\n",
        "        done_batch = []\n",
        "\n",
        "        batch = random.sample(self.buffer, batch_size)\n",
        "\n",
        "        for experience in batch:\n",
        "            state, action, reward, next_state, done = experience\n",
        "            state_batch.append(state)\n",
        "            action_batch.append(action)\n",
        "            reward_batch.append(reward)\n",
        "            next_state_batch.append(next_state)\n",
        "            done_batch.append(done)\n",
        "        \n",
        "        return state_batch, action_batch, reward_batch, next_state_batch, done_batch\n",
        "\n",
        "    def __len__(self): # to know the size of memory filled\n",
        "        return len(self.buffer)"
      ],
      "metadata": {
        "id": "0YI9caGB82or"
      },
      "execution_count": null,
      "outputs": []
    },
    {
      "cell_type": "markdown",
      "source": [
        "### ***Agent***"
      ],
      "metadata": {
        "id": "w6m-ioC79tWV"
      }
    },
    {
      "cell_type": "code",
      "source": [
        "# importing modules\n",
        "import torch\n",
        "import torch.autograd\n",
        "import torch.optim as optim\n",
        "import torch.nn as nn\n",
        "\n",
        "# agent class\n",
        "class DDPGagent:\n",
        "    def __init__(self, env, hidden_size=256, actor_learning_rate=1e-4, critic_learning_rate=1e-3, gamma=0.99, tau=1e-2, max_memory_size=50000):\n",
        "        # Parameters\n",
        "        self.num_states = env.observation_space.shape[0]\n",
        "        self.num_actions = env.action_space.shape[0]\n",
        "        self.gamma = gamma\n",
        "        self.tau = tau\n",
        "\n",
        "        # Networks\n",
        "        self.actor = Actor(self.num_states, hidden_size, self.num_actions)\n",
        "        self.actor_target = Actor(self.num_states, hidden_size, self.num_actions)\n",
        "        self.critic = Critic(self.num_states + self.num_actions, hidden_size, self.num_actions)\n",
        "        self.critic_target = Critic(self.num_states + self.num_actions, hidden_size, self.num_actions)\n",
        "\n",
        "        for target_param, param in zip(self.actor_target.parameters(), self.actor.parameters()):\n",
        "            target_param.data.copy_(param.data)\n",
        "\n",
        "        for target_param, param in zip(self.critic_target.parameters(), self.critic.parameters()):\n",
        "            target_param.data.copy_(param.data)\n",
        "        \n",
        "        # Training\n",
        "        self.memory = Memory_Normalized(max_memory_size)     \n",
        "        self.critic_criterion  = nn.MSELoss() # loss criteria\n",
        "        self.actor_optimizer  = optim.Adam(self.actor.parameters(), lr=actor_learning_rate) # optimizer for actor network\n",
        "        self.critic_optimizer = optim.Adam(self.critic.parameters(), lr=critic_learning_rate) # optimizer for critic network\n",
        "    \n",
        "    def get_action(self, state): # get the action by forward propogation in actor network\n",
        "        state = Variable(torch.from_numpy(state).float().unsqueeze(0))\n",
        "        action = self.actor.forward(state)\n",
        "        action = action.detach().numpy()[0,0]\n",
        "        return action\n",
        "    \n",
        "    def update(self, batch_size): # update the sampled data after batch size\n",
        "        states, actions, rewards, next_states, _ = self.memory.sample(batch_size)\n",
        "        states = torch.FloatTensor(states)\n",
        "        actions = torch.FloatTensor(actions)\n",
        "        rewards = torch.FloatTensor(rewards)\n",
        "        next_states = torch.FloatTensor(next_states)\n",
        "    \n",
        "        # Critic loss        \n",
        "        Qvals = self.critic.forward(states, actions)\n",
        "        next_actions = self.actor_target.forward(next_states)\n",
        "        next_Q = self.critic_target.forward(next_states, next_actions.detach())\n",
        "        Qprime = rewards + self.gamma * next_Q\n",
        "        critic_loss = self.critic_criterion(Qvals, Qprime)\n",
        "\n",
        "        # Actor loss\n",
        "        policy_loss = -self.critic.forward(states, self.actor.forward(states)).mean()\n",
        "        \n",
        "        # update networks\n",
        "        self.actor_optimizer.zero_grad()\n",
        "        policy_loss.backward()\n",
        "        self.actor_optimizer.step()\n",
        "\n",
        "        self.critic_optimizer.zero_grad()\n",
        "        critic_loss.backward() \n",
        "        self.critic_optimizer.step()\n",
        "\n",
        "        # update target networks \n",
        "        for target_param, param in zip(self.actor_target.parameters(), self.actor.parameters()):\n",
        "            target_param.data.copy_(param.data * self.tau + target_param.data * (1.0 - self.tau))\n",
        "       \n",
        "        for target_param, param in zip(self.critic_target.parameters(), self.critic.parameters()):\n",
        "            target_param.data.copy_(param.data * self.tau + target_param.data * (1.0 - self.tau))"
      ],
      "metadata": {
        "id": "5LwVA1SbEHyR"
      },
      "execution_count": null,
      "outputs": []
    },
    {
      "cell_type": "markdown",
      "source": [
        "## **Agent taking actions on environment using Normalized feedback protocol**"
      ],
      "metadata": {
        "id": "5c_fa9zt-fSs"
      }
    },
    {
      "cell_type": "code",
      "source": [
        "# importing modules\n",
        "import sys\n",
        "import gym\n",
        "import numpy as np\n",
        "import pandas as pd\n",
        "import warnings\n",
        "warnings.filterwarnings('ignore')\n",
        "\n",
        "env = Environment() # creating environment\n",
        "\n",
        "agent = DDPGagent(env) # agent\n",
        "noise = OUNoise(env.action_space) # noise object\n",
        "batch_size = 2 # batch size\n",
        "rewards = [] # to store rewards of each episode\n",
        "avg_rewards = [] # to store average reward per episode\n",
        "episodes = 10 # no of episodes\n",
        "steps = 50 # no of steps in an episode\n",
        "for episode in range(episodes):\n",
        "    state = env.reset()\n",
        "    noise.reset()\n",
        "    episode_reward = 0\n",
        "    for step in range(steps):\n",
        "        action = agent.get_action(state) # get the best action from the agent\n",
        "        action = noise.get_action(action, step) # add noise to the action\n",
        "        new_state, reward, done, _ = env.step(action) # apply action on the environment\n",
        "        agent.memory.push(state, action, reward, new_state, done) # store the experience of the step in memory\n",
        "        \n",
        "        if len(agent.memory) > batch_size:\n",
        "            agent.update(batch_size)\n",
        "        \n",
        "        state = new_state\n",
        "        episode_reward += reward\n",
        "        if done: # stop when agent completely explored the environment\n",
        "            break\n",
        " \n",
        "    rewards.append(episode_reward)\n",
        "    avg_rewards.append(np.mean(rewards[-10:]))\n",
        "    # print total reward for the episode and average_reward per episode\n",
        "    print(\"episode: {}, reward: {}, average _reward: {} \\n\".format(episode+1, np.round(episode_reward, decimals=2), np.mean(rewards[-10:])))\n",
        "norm_feedback_rewards = rewards\n",
        "norm_feedback_avg_rewards = avg_rewards\n"
      ],
      "metadata": {
        "colab": {
          "base_uri": "https://localhost:8080/"
        },
        "id": "tzyfsQwhEUBi",
        "outputId": "cec06704-3d20-4cd9-8203-2cf27c6b4ed7"
      },
      "execution_count": null,
      "outputs": [
        {
          "output_type": "stream",
          "name": "stdout",
          "text": [
            "episode: 1, reward: 5.86, average _reward: 5.8630855 \n",
            "\n",
            "episode: 2, reward: 5.61, average _reward: 5.736686 \n",
            "\n",
            "episode: 3, reward: 23.59, average _reward: 11.686945166666666 \n",
            "\n",
            "episode: 4, reward: 10.81, average _reward: 11.468103999999999 \n",
            "\n",
            "episode: 5, reward: 25.41, average _reward: 14.2574722 \n",
            "\n",
            "episode: 6, reward: 16.73, average _reward: 14.669595916666667 \n",
            "\n",
            "episode: 7, reward: 38.02, average _reward: 18.00521242857143 \n",
            "\n",
            "episode: 8, reward: 11.07, average _reward: 17.1385453125 \n",
            "\n",
            "episode: 9, reward: 10.96, average _reward: 16.451730833333333 \n",
            "\n",
            "episode: 10, reward: 29.53, average _reward: 17.759454799999997 \n",
            "\n"
          ]
        }
      ]
    },
    {
      "cell_type": "markdown",
      "source": [
        "# *Plotting average_rewards_per_episode vs episodes without normalized feedback vs with normalized feedback protocol*"
      ],
      "metadata": {
        "id": "5RdS1VZ0_1f-"
      }
    },
    {
      "cell_type": "code",
      "source": [
        "from matplotlib import pyplot as plt\n",
        "plt.plot(norm_feedback_avg_rewards,'g',linewidth=3)\n",
        "plt.plot(with_feedback_avg_rewards,'r',linewidth=1.5)\n",
        "plt.plot()\n",
        "plt.legend([\"with normalized feedback\", \"without normalized feedback\"], loc =\"lower right\")\n",
        "plt.xlabel('Episodes')\n",
        "plt.ylabel('Average Reward')\n",
        "plt.title('average rewards w.r.t episodes')\n",
        "plt.style.use('dark_background')\n",
        "plt.show()"
      ],
      "metadata": {
        "colab": {
          "base_uri": "https://localhost:8080/",
          "height": 295
        },
        "id": "_y-wIb_xEseD",
        "outputId": "e18d2843-3f37-4852-eb71-eb81c91f2468"
      },
      "execution_count": null,
      "outputs": [
        {
          "output_type": "display_data",
          "data": {
            "text/plain": [
              "<Figure size 432x288 with 1 Axes>"
            ],
            "image/png": "[encoded data removed]"
          },
          "metadata": {}
        }
      ]
    },
    {
      "cell_type": "markdown",
      "source": [
        "# ***Plotting Average Rewards vs Episodes for \"without feedback\" vs \"with feedback\" vs with \"normalized feedback\"***"
      ],
      "metadata": {
        "id": "o8pJtuTlHF8W"
      }
    },
    {
      "cell_type": "code",
      "source": [
        "from matplotlib import pyplot as plt\n",
        "plt.plot(norm_feedback_avg_rewards,'g',linewidth=4.5)\n",
        "plt.plot(with_feedback_avg_rewards,'b',linewidth=3)\n",
        "plt.plot(without_feedback_avg_rewards,'r',linewidth=1.5)\n",
        "plt.plot()\n",
        "plt.legend([\"with normalized feedback\", \"with feedback\", \"without feedback\"], loc =\"lower right\")\n",
        "plt.xlabel('Episodes')\n",
        "plt.ylabel('Average Reward')\n",
        "plt.title('average rewards w.r.t episodes')\n",
        "plt.style.use('dark_background')\n",
        "plt.show()"
      ],
      "metadata": {
        "colab": {
          "base_uri": "https://localhost:8080/",
          "height": 295
        },
        "id": "p5s1OjcQG9HP",
        "outputId": "98ffe30c-936a-4c97-abed-add84052c16e"
      },
      "execution_count": null,
      "outputs": [
        {
          "output_type": "display_data",
          "data": {
            "text/plain": [
              "<Figure size 432x288 with 1 Axes>"
            ],
            "image/png": "[encoded data removed]"
          },
          "metadata": {}
        }
      ]
    }
  ]
}